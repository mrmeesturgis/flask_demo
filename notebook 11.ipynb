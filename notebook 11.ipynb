{
 "cells": [
  {
   "cell_type": "markdown",
   "id": "d8bba665",
   "metadata": {},
   "source": [
    "<img src=\"https://www.sturgischarterschool.com/wp-content/uploads/2019/06/sturgisheader_logo.png\" alt=\"sturgis\" width=\"250\" align=\"right\"/>\n",
    "\n",
    "## Computer Science 'Bootstrapped Flasks' notebook 11\n",
    "### Sturgis Charter Public School \n",
    "\n"
   ]
  },
  {
   "cell_type": "markdown",
   "id": "681696fb",
   "metadata": {},
   "source": [
    "Student: [your name here]\n",
    "\n",
    "Collaborators: [N/A]\n",
    "\n",
    "Notes to the teacher: [N/A]"
   ]
  },
  {
   "cell_type": "markdown",
   "id": "16bf0839",
   "metadata": {},
   "source": [
    "### Learning Objectives for notebook \n",
    "* objective\n",
    "* objective\n",
    "* objective"
   ]
  },
  {
   "cell_type": "markdown",
   "id": "817e4617",
   "metadata": {},
   "source": [
    "https://errorsea.com/how-to-change-text-onclick-event-javascript/ #Change render on click"
   ]
  },
  {
   "cell_type": "code",
   "execution_count": 1,
   "id": "fb3eb272",
   "metadata": {},
   "outputs": [],
   "source": [
    "from flask import Flask, request, jsonify, json, render_template\n",
    "import matplotlib.pyplot as plt\n",
    "import numpy as np\n",
    "import base64\n",
    "from io import BytesIO\n",
    "from matplotlib.figure import Figure\n",
    "import random"
   ]
  },
  {
   "cell_type": "code",
   "execution_count": 2,
   "id": "431ae622",
   "metadata": {},
   "outputs": [],
   "source": [
    "app = Flask(__name__)"
   ]
  },
  {
   "cell_type": "code",
   "execution_count": 3,
   "id": "a6fdea06",
   "metadata": {},
   "outputs": [],
   "source": [
    "@app.route('/')\n",
    "def doc():\n",
    "    with open(\"app/doc.html\", \"r\") as f:\n",
    "        return f.read()"
   ]
  },
  {
   "cell_type": "code",
   "execution_count": 4,
   "id": "4b9f76fd",
   "metadata": {},
   "outputs": [],
   "source": [
    "@app.route('/tester')\n",
    "def tester():\n",
    "    return render_template('tester.html')"
   ]
  },
  {
   "cell_type": "code",
   "execution_count": 5,
   "id": "1a27ffa4",
   "metadata": {},
   "outputs": [],
   "source": [
    "@app.route('/bootstrapper')\n",
    "def index():\n",
    "    return render_template('index.html')"
   ]
  },
  {
   "cell_type": "code",
   "execution_count": 6,
   "id": "cc281264",
   "metadata": {},
   "outputs": [],
   "source": [
    "@app.route('/grapher')\n",
    "def graph():\n",
    "    # Generate the figure **without using pyplot**.\n",
    "    fig = Figure()\n",
    "    x = np.sin(np.arange(1,6*np.pi ,.1))\n",
    "    ax = fig.subplots()\n",
    "    ax.plot(x)\n",
    "    # Save it to a temporary buffer.\n",
    "    buf = BytesIO()\n",
    "    fig.savefig(buf, format=\"png\")\n",
    "    # Embed the result in the html output.\n",
    "    data = base64.b64encode(buf.getbuffer()).decode(\"ascii\")\n",
    "    return f\"<img src='data:image/png;base64,{data}'/>\""
   ]
  },
  {
   "cell_type": "code",
   "execution_count": 7,
   "id": "64a71ba3",
   "metadata": {},
   "outputs": [],
   "source": [
    "@app.route('/databaser')\n",
    "def database():\n",
    "    return '12345'"
   ]
  },
  {
   "cell_type": "code",
   "execution_count": 8,
   "id": "d58c8214",
   "metadata": {},
   "outputs": [
    {
     "name": "stdout",
     "output_type": "stream",
     "text": [
      " * Serving Flask app \"__main__\" (lazy loading)\n",
      " * Environment: production\n",
      "\u001b[31m   WARNING: This is a development server. Do not use it in a production deployment.\u001b[0m\n",
      "\u001b[2m   Use a production WSGI server instead.\u001b[0m\n",
      " * Debug mode: off\n"
     ]
    },
    {
     "name": "stderr",
     "output_type": "stream",
     "text": [
      " * Running on http://127.0.0.1:5000/ (Press CTRL+C to quit)\n",
      "127.0.0.1 - - [24/Jan/2023 08:39:37] \"GET / HTTP/1.1\" 200 -\n",
      "127.0.0.1 - - [24/Jan/2023 08:39:38] \"GET /favicon.ico HTTP/1.1\" 404 -\n",
      "127.0.0.1 - - [24/Jan/2023 08:40:04] \"GET / HTTP/1.1\" 200 -\n",
      "127.0.0.1 - - [24/Jan/2023 08:41:19] \"GET /bootstrapper HTTP/1.1\" 200 -\n",
      "127.0.0.1 - - [24/Jan/2023 08:41:59] \"GET /tester HTTP/1.1\" 200 -\n",
      "127.0.0.1 - - [24/Jan/2023 08:41:59] \"GET /static/p13.jpeg HTTP/1.1\" 200 -\n",
      "127.0.0.1 - - [24/Jan/2023 08:42:30] \"GET /grapher HTTP/1.1\" 200 -\n",
      "127.0.0.1 - - [24/Jan/2023 08:42:52] \"GET /databaser HTTP/1.1\" 200 -\n",
      "127.0.0.1 - - [24/Jan/2023 08:42:55] \"GET /grapher HTTP/1.1\" 200 -\n",
      "127.0.0.1 - - [24/Jan/2023 08:45:50] \"GET /bootstrapper HTTP/1.1\" 200 -\n"
     ]
    }
   ],
   "source": [
    "if __name__ == \"__main__\":\n",
    "    app.run(port=5000)"
   ]
  },
  {
   "cell_type": "code",
   "execution_count": null,
   "id": "a5bc2c13",
   "metadata": {},
   "outputs": [],
   "source": []
  }
 ],
 "metadata": {
  "kernelspec": {
   "display_name": "Python 3 (ipykernel)",
   "language": "python",
   "name": "python3"
  },
  "language_info": {
   "codemirror_mode": {
    "name": "ipython",
    "version": 3
   },
   "file_extension": ".py",
   "mimetype": "text/x-python",
   "name": "python",
   "nbconvert_exporter": "python",
   "pygments_lexer": "ipython3",
   "version": "3.9.7"
  }
 },
 "nbformat": 4,
 "nbformat_minor": 5
}
